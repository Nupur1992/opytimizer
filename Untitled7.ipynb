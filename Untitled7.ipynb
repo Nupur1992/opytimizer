{
  "nbformat": 4,
  "nbformat_minor": 0,
  "metadata": {
    "colab": {
      "provenance": [],
      "authorship_tag": "ABX9TyNZnGERfCqsO70v5DYJfRvz",
      "include_colab_link": true
    },
    "kernelspec": {
      "name": "python3",
      "display_name": "Python 3"
    },
    "language_info": {
      "name": "python"
    }
  },
  "cells": [
    {
      "cell_type": "markdown",
      "metadata": {
        "id": "view-in-github",
        "colab_type": "text"
      },
      "source": [
        "<a href=\"https://colab.research.google.com/github/Nupur1992/opytimizer/blob/master/Untitled7.ipynb\" target=\"_parent\"><img src=\"https://colab.research.google.com/assets/colab-badge.svg\" alt=\"Open In Colab\"/></a>"
      ]
    },
    {
      "cell_type": "code",
      "source": [
        "!sudo apt install python3.10-venv"
      ],
      "metadata": {
        "colab": {
          "base_uri": "https://localhost:8080/"
        },
        "id": "AyCUgogIyH93",
        "outputId": "dfeedd53-1fad-4f20-edcc-78600d742b08"
      },
      "execution_count": 27,
      "outputs": [
        {
          "output_type": "stream",
          "name": "stdout",
          "text": [
            "Reading package lists... Done\n",
            "Building dependency tree... Done\n",
            "Reading state information... Done\n",
            "The following additional packages will be installed:\n",
            "  python3-pip-whl python3-setuptools-whl\n",
            "The following NEW packages will be installed:\n",
            "  python3-pip-whl python3-setuptools-whl python3.10-venv\n",
            "0 upgraded, 3 newly installed, 0 to remove and 24 not upgraded.\n",
            "Need to get 2,473 kB of archives.\n",
            "After this operation, 2,884 kB of additional disk space will be used.\n",
            "Get:1 http://archive.ubuntu.com/ubuntu jammy-updates/universe amd64 python3-pip-whl all 22.0.2+dfsg-1ubuntu0.4 [1,680 kB]\n",
            "Get:2 http://archive.ubuntu.com/ubuntu jammy-updates/universe amd64 python3-setuptools-whl all 59.6.0-1.2ubuntu0.22.04.1 [788 kB]\n",
            "Get:3 http://archive.ubuntu.com/ubuntu jammy-updates/universe amd64 python3.10-venv amd64 3.10.12-1~22.04.3 [5,716 B]\n",
            "Fetched 2,473 kB in 1s (2,466 kB/s)\n",
            "debconf: unable to initialize frontend: Dialog\n",
            "debconf: (No usable dialog-like program is installed, so the dialog based frontend cannot be used. at /usr/share/perl5/Debconf/FrontEnd/Dialog.pm line 78, <> line 3.)\n",
            "debconf: falling back to frontend: Readline\n",
            "debconf: unable to initialize frontend: Readline\n",
            "debconf: (This frontend requires a controlling tty.)\n",
            "debconf: falling back to frontend: Teletype\n",
            "dpkg-preconfigure: unable to re-open stdin: \n",
            "Selecting previously unselected package python3-pip-whl.\n",
            "(Reading database ... 121666 files and directories currently installed.)\n",
            "Preparing to unpack .../python3-pip-whl_22.0.2+dfsg-1ubuntu0.4_all.deb ...\n",
            "Unpacking python3-pip-whl (22.0.2+dfsg-1ubuntu0.4) ...\n",
            "Selecting previously unselected package python3-setuptools-whl.\n",
            "Preparing to unpack .../python3-setuptools-whl_59.6.0-1.2ubuntu0.22.04.1_all.deb ...\n",
            "Unpacking python3-setuptools-whl (59.6.0-1.2ubuntu0.22.04.1) ...\n",
            "Selecting previously unselected package python3.10-venv.\n",
            "Preparing to unpack .../python3.10-venv_3.10.12-1~22.04.3_amd64.deb ...\n",
            "Unpacking python3.10-venv (3.10.12-1~22.04.3) ...\n",
            "Setting up python3-setuptools-whl (59.6.0-1.2ubuntu0.22.04.1) ...\n",
            "Setting up python3-pip-whl (22.0.2+dfsg-1ubuntu0.4) ...\n",
            "Setting up python3.10-venv (3.10.12-1~22.04.3) ...\n"
          ]
        }
      ]
    },
    {
      "cell_type": "code",
      "source": [
        "!python3.10 -m venv venv"
      ],
      "metadata": {
        "id": "MjWI1VDI2ylQ"
      },
      "execution_count": 29,
      "outputs": []
    },
    {
      "cell_type": "code",
      "source": [
        "!source venv/bin/activate"
      ],
      "metadata": {
        "id": "Tv1bqReUzeB2"
      },
      "execution_count": 34,
      "outputs": []
    },
    {
      "cell_type": "code",
      "source": [
        "!git clone https://github.com/johnsoong216/pymarkowitz.git  # Replace with the actual repository URL"
      ],
      "metadata": {
        "id": "IrRzJjWd0trH",
        "outputId": "61836d29-1636-49ba-e824-c41f74a0ea2b",
        "colab": {
          "base_uri": "https://localhost:8080/"
        }
      },
      "execution_count": 44,
      "outputs": [
        {
          "output_type": "stream",
          "name": "stdout",
          "text": [
            "Cloning into 'pymarkowitz'...\n",
            "remote: Enumerating objects: 250, done.\u001b[K\n",
            "remote: Counting objects: 100% (22/22), done.\u001b[K\n",
            "remote: Compressing objects: 100% (22/22), done.\u001b[K\n",
            "remote: Total 250 (delta 0), reused 0 (delta 0), pack-reused 228\u001b[K\n",
            "Receiving objects: 100% (250/250), 14.58 MiB | 10.63 MiB/s, done.\n",
            "Resolving deltas: 100% (123/123), done.\n"
          ]
        }
      ]
    },
    {
      "cell_type": "code",
      "source": [
        "cd pymarkowitz"
      ],
      "metadata": {
        "id": "CKm082bw0zRo",
        "outputId": "15a5fe16-61c4-48e6-98d0-5b5b25904f7d",
        "colab": {
          "base_uri": "https://localhost:8080/"
        }
      },
      "execution_count": 45,
      "outputs": [
        {
          "output_type": "stream",
          "name": "stdout",
          "text": [
            "/content/pymarkowitz\n"
          ]
        }
      ]
    },
    {
      "cell_type": "code",
      "source": [
        "pip install -e"
      ],
      "metadata": {
        "id": "D84BkeyD1Jp_",
        "outputId": "bebd1652-d9c0-4f71-8b02-bdc978ce3533",
        "colab": {
          "base_uri": "https://localhost:8080/"
        }
      },
      "execution_count": 47,
      "outputs": [
        {
          "output_type": "stream",
          "name": "stdout",
          "text": [
            "\n",
            "Usage:   \n",
            "  pip install [options] <requirement specifier> [package-index-options] ...\n",
            "  pip install [options] -r <requirements file> [package-index-options] ...\n",
            "  pip install [options] [-e] <vcs project url> ...\n",
            "  pip install [options] [-e] <local project path> ...\n",
            "  pip install [options] <archive url/path> ...\n",
            "\n",
            "-e option requires 1 argument\n"
          ]
        }
      ]
    },
    {
      "cell_type": "code",
      "source": [
        "!sudo apt-get install python3-dev"
      ],
      "metadata": {
        "id": "6lwS6HKc2Twb",
        "outputId": "f0d800be-ac08-419a-c624-689698225e3a",
        "colab": {
          "base_uri": "https://localhost:8080/"
        }
      },
      "execution_count": 51,
      "outputs": [
        {
          "output_type": "stream",
          "name": "stdout",
          "text": [
            "Reading package lists... Done\n",
            "Building dependency tree... Done\n",
            "Reading state information... Done\n",
            "python3-dev is already the newest version (3.10.6-1~22.04).\n",
            "python3-dev set to manually installed.\n",
            "0 upgraded, 0 newly installed, 0 to remove and 24 not upgraded.\n"
          ]
        }
      ]
    },
    {
      "cell_type": "code",
      "source": [
        "pip install --upgrade pip setuptools"
      ],
      "metadata": {
        "id": "bPOV_t9Z3Gf5",
        "outputId": "2ab23779-4192-4377-82fd-829b0aa550eb",
        "colab": {
          "base_uri": "https://localhost:8080/"
        }
      },
      "execution_count": 1,
      "outputs": [
        {
          "output_type": "stream",
          "name": "stdout",
          "text": [
            "Requirement already satisfied: pip in /usr/local/lib/python3.10/dist-packages (23.3.2)\n",
            "Requirement already satisfied: setuptools in /usr/local/lib/python3.10/dist-packages (69.0.2)\n",
            "\u001b[33mWARNING: Running pip as the 'root' user can result in broken permissions and conflicting behaviour with the system package manager. It is recommended to use a virtual environment instead: https://pip.pypa.io/warnings/venv\u001b[0m\u001b[33m\n",
            "\u001b[0m"
          ]
        }
      ]
    },
    {
      "cell_type": "code",
      "source": [
        "!pip install numpy pandas pandas-datareader scikit-learn pymarkowitz"
      ],
      "metadata": {
        "colab": {
          "base_uri": "https://localhost:8080/"
        },
        "id": "4drFKZiPzQrD",
        "outputId": "0cb0fe2d-dd9a-4038-c6c1-86ec635c7847"
      },
      "execution_count": 2,
      "outputs": [
        {
          "output_type": "stream",
          "name": "stdout",
          "text": [
            "Requirement already satisfied: numpy in /usr/local/lib/python3.10/dist-packages (1.23.5)\n",
            "Requirement already satisfied: pandas in /usr/local/lib/python3.10/dist-packages (1.5.3)\n",
            "Requirement already satisfied: pandas-datareader in /usr/local/lib/python3.10/dist-packages (0.10.0)\n",
            "Requirement already satisfied: scikit-learn in /usr/local/lib/python3.10/dist-packages (1.2.2)\n",
            "Collecting pymarkowitz\n",
            "  Using cached pymarkowitz-1.1.5.tar.gz (23 kB)\n",
            "  Preparing metadata (setup.py) ... \u001b[?25l\u001b[?25hdone\n",
            "Requirement already satisfied: python-dateutil>=2.8.1 in /usr/local/lib/python3.10/dist-packages (from pandas) (2.8.2)\n",
            "Requirement already satisfied: pytz>=2020.1 in /usr/local/lib/python3.10/dist-packages (from pandas) (2023.3.post1)\n",
            "Requirement already satisfied: lxml in /usr/local/lib/python3.10/dist-packages (from pandas-datareader) (4.9.3)\n",
            "Requirement already satisfied: requests>=2.19.0 in /usr/local/lib/python3.10/dist-packages (from pandas-datareader) (2.31.0)\n",
            "Requirement already satisfied: scipy>=1.3.2 in /usr/local/lib/python3.10/dist-packages (from scikit-learn) (1.11.4)\n",
            "Requirement already satisfied: joblib>=1.1.1 in /usr/local/lib/python3.10/dist-packages (from scikit-learn) (1.3.2)\n",
            "Requirement already satisfied: threadpoolctl>=2.0.0 in /usr/local/lib/python3.10/dist-packages (from scikit-learn) (3.2.0)\n",
            "Collecting sklearn (from pymarkowitz)\n",
            "  Using cached sklearn-0.0.post12.tar.gz (2.6 kB)\n",
            "  \u001b[1;31merror\u001b[0m: \u001b[1msubprocess-exited-with-error\u001b[0m\n",
            "  \n",
            "  \u001b[31m×\u001b[0m \u001b[32mpython setup.py egg_info\u001b[0m did not run successfully.\n",
            "  \u001b[31m│\u001b[0m exit code: \u001b[1;36m1\u001b[0m\n",
            "  \u001b[31m╰─>\u001b[0m See above for output.\n",
            "  \n",
            "  \u001b[1;35mnote\u001b[0m: This error originates from a subprocess, and is likely not a problem with pip.\n",
            "  Preparing metadata (setup.py) ... \u001b[?25l\u001b[?25herror\n",
            "\u001b[1;31merror\u001b[0m: \u001b[1mmetadata-generation-failed\u001b[0m\n",
            "\n",
            "\u001b[31m×\u001b[0m Encountered error while generating package metadata.\n",
            "\u001b[31m╰─>\u001b[0m See above for output.\n",
            "\n",
            "\u001b[1;35mnote\u001b[0m: This is an issue with the package mentioned above, not pip.\n",
            "\u001b[1;36mhint\u001b[0m: See above for details.\n"
          ]
        }
      ]
    },
    {
      "cell_type": "code",
      "execution_count": 10,
      "metadata": {
        "colab": {
          "base_uri": "https://localhost:8080/",
          "height": 383
        },
        "id": "AA-ZnyeHUdG8",
        "outputId": "a44b765b-1276-4fa5-d2cb-ac0b0dd15f66"
      },
      "outputs": [
        {
          "output_type": "error",
          "ename": "ModuleNotFoundError",
          "evalue": "ignored",
          "traceback": [
            "\u001b[0;31m---------------------------------------------------------------------------\u001b[0m",
            "\u001b[0;31mModuleNotFoundError\u001b[0m                       Traceback (most recent call last)",
            "\u001b[0;32m<ipython-input-10-ca2fce039a33>\u001b[0m in \u001b[0;36m<cell line: 3>\u001b[0;34m()\u001b[0m\n\u001b[1;32m      1\u001b[0m \u001b[0;32mimport\u001b[0m \u001b[0mpandas\u001b[0m \u001b[0;32mas\u001b[0m \u001b[0mpd\u001b[0m\u001b[0;34m\u001b[0m\u001b[0;34m\u001b[0m\u001b[0m\n\u001b[1;32m      2\u001b[0m \u001b[0;32mimport\u001b[0m \u001b[0mnumpy\u001b[0m \u001b[0;32mas\u001b[0m \u001b[0mnp\u001b[0m\u001b[0;34m\u001b[0m\u001b[0;34m\u001b[0m\u001b[0m\n\u001b[0;32m----> 3\u001b[0;31m \u001b[0;32mfrom\u001b[0m \u001b[0mpymarkowitz\u001b[0m \u001b[0;32mimport\u001b[0m \u001b[0mMomentGenerator\u001b[0m\u001b[0;34m\u001b[0m\u001b[0;34m\u001b[0m\u001b[0m\n\u001b[0m\u001b[1;32m      4\u001b[0m \u001b[0;32mfrom\u001b[0m \u001b[0msklearn\u001b[0m\u001b[0;34m.\u001b[0m\u001b[0mpreprocessing\u001b[0m \u001b[0;32mimport\u001b[0m \u001b[0mnormalize\u001b[0m\u001b[0;34m\u001b[0m\u001b[0;34m\u001b[0m\u001b[0m\n\u001b[1;32m      5\u001b[0m \u001b[0;32mimport\u001b[0m \u001b[0mrandom\u001b[0m\u001b[0;34m\u001b[0m\u001b[0;34m\u001b[0m\u001b[0m\n",
            "\u001b[0;31mModuleNotFoundError\u001b[0m: No module named 'pymarkowitz'",
            "",
            "\u001b[0;31m---------------------------------------------------------------------------\u001b[0;32m\nNOTE: If your import is failing due to a missing package, you can\nmanually install dependencies using either !pip or !apt.\n\nTo view examples of installing some common dependencies, click the\n\"Open Examples\" button below.\n\u001b[0;31m---------------------------------------------------------------------------\u001b[0m\n"
          ],
          "errorDetails": {
            "actions": [
              {
                "action": "open_url",
                "actionText": "Open Examples",
                "url": "/notebooks/snippets/importing_libraries.ipynb"
              }
            ]
          }
        }
      ],
      "source": [
        "import pandas as pd\n",
        "import numpy as np\n",
        "from pymarkowitz import MomentGenerator\n",
        "from sklearn.preprocessing import normalize\n",
        "import random\n",
        "import time\n",
        "import math\n",
        "\n",
        "# Set the seed value for random number generation\n",
        "# random.seed(30)\n",
        "# np.random.seed(30)\n",
        "\n",
        "# Load data\n",
        "df = pd.read_excel(r\"C:\\Users\\Nupur Chauhan\\OneDrive\\Desktop\\Predictions-P3.xlsx\")\n",
        "\n",
        "# Generate moment matrices\n",
        "mom_generator = MomentGenerator(df)\n",
        "coskew_matrix = mom_generator.calc_coskew_mat()\n",
        "cokurt_matrix = mom_generator.calc_cokurt_mat()\n",
        "\n",
        "meanReturns = np.mean(df, axis=0)\n",
        "meanReturns_normalized = normalize([meanReturns])[0]\n",
        "\n",
        "covReturns = np.cov(df, rowvar=False)\n",
        "covReturns_normalized = normalize(covReturns)\n",
        "\n",
        "# Update the normalized mean returns and covariance matrix\n",
        "AVERAGES = np.array(meanReturns_normalized)\n",
        "COVARIANCES = np.array(covReturns_normalized)\n",
        "COSKEW = np.array(coskew_matrix)\n",
        "COKURT = np.array(cokurt_matrix)\n",
        "\n",
        "def normr(Mat):\n",
        "    Mat = Mat.reshape(1, -1)\n",
        "    if Mat.dtype != \"float\":\n",
        "        Mat = np.asarray(Mat, dtype=float)\n",
        "    B = normalize(Mat, norm=\"l2\", axis=1)\n",
        "    B = np.reshape(B, -1)\n",
        "    return B\n",
        "\n",
        "def RouletteWheelSelection(weights):\n",
        "    accumulation = np.cumsum(weights)\n",
        "    p = random.random() * accumulation[-1]\n",
        "    chosen_index = -1\n",
        "    for index in range(len(accumulation)):\n",
        "        if accumulation[index] > p:\n",
        "            chosen_index = index\n",
        "            break\n",
        "    choice = chosen_index\n",
        "    return choice\n",
        "\n",
        "class Solution:\n",
        "    def __init__(self):\n",
        "        self.best = 0\n",
        "        self.bestIndividual = []\n",
        "        self.convergence = []\n",
        "        self.optimizer = \"\"\n",
        "        self.objfname = \"\"\n",
        "        self.startTime = 0\n",
        "        self.endTime = 0\n",
        "        self.executionTime = 0\n",
        "        self.lb = 0\n",
        "        self.ub = 0\n",
        "        self.dim = 0\n",
        "        self.popnum = 0\n",
        "        self.maxiers = 0\n",
        "\n",
        "# Define the confidence level (e.g., 95%)\n",
        "returns = df\n",
        "def semi_variance(weights, returns):\n",
        "    # Assuming 'returns' is a DataFrame with columns representing returns for different companies\n",
        "    portfolio_meanreturns = np.mean(returns, axis=0)\n",
        "    portfolio_mean = np.dot(portfolio_meanreturns, weights)\n",
        "\n",
        "    # Calculate Semivariance Matrix\n",
        "    num_companies = len(returns.columns)\n",
        "    semi_var_matrix = np.zeros((num_companies, num_companies))\n",
        "    benchmark = portfolio_mean\n",
        "\n",
        "    for i, col_i in enumerate(returns.columns):\n",
        "        for j, col_j in enumerate(returns.columns):\n",
        "            semi_var_matrix[i, j] = np.mean(\n",
        "                np.minimum(returns[col_i] - benchmark, 0) *\n",
        "                np.minimum(returns[col_j] - benchmark, 0)\n",
        "            )\n",
        "\n",
        "    return semi_var_matrix\n",
        "\n",
        "def objective_function(weights):\n",
        "    res = 0\n",
        "    res += np.dot(GAM, np.dot(weights.T, np.dot(COKURT, np.kron(weights, np.kron(weights, weights)))))\n",
        "    res -= np.dot(LAM, np.dot(weights.T, np.dot(COSKEW, np.kron(weights, weights))))\n",
        "    res += np.dot(PAM, 1 - np.sum(weights)**2)\n",
        "    # res += np.dot(RAM, np.dot(weights.T, np.dot(COVARIANCES, weights)))\n",
        "    semi_variance_matrix = semi_variance(weights, returns)\n",
        "    res += np.dot(RAM, np.dot(weights.T,np.dot(semi_variance_matrix, weights)))\n",
        "    res += max(0,minReturn - np.dot(AVERAGES, weights)) + abs(np.sum(weights)-1)\n",
        "\n",
        "    # Apply penalties for violated constraints\n",
        "    if minReturn - np.dot(AVERAGES, weights) > 0:\n",
        "        res += 1000000  # Penalty for not achieving the minimum return\n",
        "\n",
        "    # if np.dot(weights.T, np.dot(COVARIANCES, weights)) - maxRisk > 0:\n",
        "    #     res += 1000000  # Penalty for exceeding the maximum risk\n",
        "\n",
        "    if np.sum(weights) - 1 != 0:\n",
        "        res += 1000000  # Penalty for not summing up to 1\n",
        "\n",
        "    return res\n",
        "\n",
        "def MVO(objf, lb, ub, dim, N, Max_time, target_return):\n",
        "    WEP_Max = 1\n",
        "    WEP_Min = 0.1\n",
        "\n",
        "    if not isinstance(lb, list):\n",
        "        lb = [lb] * dim\n",
        "    if not isinstance(ub, list):\n",
        "        ub = [ub] * dim\n",
        "\n",
        "    Universes = np.zeros((N, dim))\n",
        "    for i in range(dim):\n",
        "        Universes[:, i] = np.random.uniform(0, 1, N) * (ub[i] - lb[i]) + lb[i]\n",
        "\n",
        "    Sorted_universes = np.copy(Universes)\n",
        "\n",
        "    convergence = np.zeros(Max_time)\n",
        "\n",
        "    Best_universe = [0] * dim\n",
        "    Best_universe_Inflation_rate = float(\"inf\")\n",
        "\n",
        "    s = Solution()\n",
        "\n",
        "    Time = 1\n",
        "\n",
        "    timerStart = time.time()\n",
        "    s.startTime = time.strftime(\"%Y-%m-%d-%H-%M-%S\")\n",
        "\n",
        "\n",
        "    # Initialize best fitness and best individual\n",
        "    best_fitness = float(\"inf\")\n",
        "    best_individual = None\n",
        "\n",
        "    # Initialize a list to store the best fitness values at each iteration\n",
        "    best_fitness_values = []\n",
        "\n",
        "    # Set desired minimum return\n",
        "    target_return = 0.05  # 5%\n",
        "\n",
        "    while Time < Max_time + 1:\n",
        "        WEP = WEP_Min + Time * ((WEP_Max - WEP_Min) / Max_time)\n",
        "        TDR = 1 - (math.pow(Time, 1 / 6) / math.pow(Max_time, 1 / 6))\n",
        "\n",
        "        Inflation_rates = [0] * len(Universes)\n",
        "\n",
        "        for i in range(N):\n",
        "            for j in range(dim):\n",
        "                Universes[i, j] = np.clip(Universes[i, j], lb[j], ub[j])\n",
        "\n",
        "            Inflation_rates[i] = objf(Universes[i, :])\n",
        "\n",
        "            if Inflation_rates[i] < Best_universe_Inflation_rate:\n",
        "                Best_universe_Inflation_rate = Inflation_rates[i]\n",
        "                Best_universe = np.array(Universes[i, :])\n",
        "\n",
        "        sorted_Inflation_rates = np.sort(Inflation_rates)\n",
        "        sorted_indexes = np.argsort(Inflation_rates)\n",
        "\n",
        "        for newindex in range(N):\n",
        "            Sorted_universes[newindex, :] = np.array(Universes[sorted_indexes[newindex], :])\n",
        "\n",
        "        normalized_sorted_Inflation_rates = np.copy(normr(sorted_Inflation_rates))\n",
        "\n",
        "        Universes[0, :] = np.array(Sorted_universes[0, :])\n",
        "\n",
        "        for i in range(1, N):\n",
        "            Back_hole_index = i\n",
        "            for j in range(dim):\n",
        "                r1 = random.random()\n",
        "\n",
        "                if r1 < normalized_sorted_Inflation_rates[i]:\n",
        "                    White_hole_index = RouletteWheelSelection(-sorted_Inflation_rates)\n",
        "\n",
        "                    if White_hole_index == -1:\n",
        "                        White_hole_index = 0\n",
        "\n",
        "                    Universes[Back_hole_index, j] = Sorted_universes[White_hole_index, j]\n",
        "\n",
        "                r2 = random.random()\n",
        "\n",
        "                if r2 < WEP:\n",
        "                    r3 = random.random()\n",
        "                    if r3 < 0.5:\n",
        "                        Universes[i, j] = Best_universe[j] + TDR * ((ub[j] - lb[j]) * random.random() + lb[j])\n",
        "                    if r3 > 0.5:\n",
        "                        Universes[i, j] = Best_universe[j] - TDR * ((ub[j] - lb[j]) * random.random() + lb[j])\n",
        "\n",
        "        # Apply the target return constraint\n",
        "        if np.dot(AVERAGES, Universes[i, :]) < target_return:\n",
        "            Universes[i, :] += (target_return - np.dot(AVERAGES, Universes[i, :]))\n",
        "\n",
        "        convergence[Time - 1] = Best_universe_Inflation_rate\n",
        "\n",
        "        if Time % 1 == 0:\n",
        "            print(f\"At iteration {Time}, the best fitness is {Best_universe_Inflation_rate}\")\n",
        "\n",
        "              # Store the best fitness value at the current iteration\n",
        "        best_fitness_values.append(best_fitness)\n",
        "\n",
        "        Time += 1\n",
        "\n",
        "    timerEnd = time.time()\n",
        "    s.endTime = time.strftime(\"%Y-%m-%d-%H-%M-%S\")\n",
        "    s.executionTime = timerEnd - timerStart\n",
        "    s.convergence = convergence\n",
        "    s.optimizer = \"MVO\"\n",
        "    s.objfname = objf.__name__\n",
        "    s.bestIndividual = Best_universe\n",
        "    s.best = Best_universe_Inflation_rate\n",
        "\n",
        "    return s, best_fitness_values\n",
        "\n",
        "# Set up parameters\n",
        "lb = [0.01] * df.shape[1]\n",
        "ub = [0.99] * df.shape[1]\n",
        "dim = df.shape[1]\n",
        "N = 30  # Number of universes\n",
        "Max_time = 100  # Maximum number of iterations\n",
        "\n",
        "# Set desired constraints\n",
        "minReturn = 0.05\n",
        "# maxRisk = 0.1\n",
        "\n",
        "# Set penalty coefficients\n",
        "GAM = 0.25 # Coefficient for cokurtosis matrix\n",
        "LAM = 0.25 # Coefficient for coskewness matrix\n",
        "PAM = 0.25 # Coefficient for entropy\n",
        "RAM = 0.25\n",
        "\n",
        "# Run MVO optimization\n",
        "solution, best_fitness_values = MVO(objective_function, lb, ub, dim, N, Max_time, target_return=0.05)\n",
        "\n",
        "# Get optimized weights\n",
        "optimized_weights = solution.bestIndividual\n",
        "\n",
        "# Normalize the weights to ensure their sum is 100%\n",
        "normalized_weights = optimized_weights / np.sum(optimized_weights) * 1.0\n",
        "# normalized_weights = optimized_weights\n",
        "\n",
        "# Calculate portfolio return and risk\n",
        "portfolio_return = np.dot(AVERAGES, normalized_weights)\n",
        "portfolio_risk = np.sqrt(np.dot(normalized_weights, np.dot(COVARIANCES, normalized_weights)))\n",
        "\n",
        "# Print results\n",
        "print(\"Optimized Weights:\")\n",
        "for i, weight in enumerate(normalized_weights):\n",
        "    print(f\"Asset {i+1}: {weight * 100:.2f}%\")\n",
        "\n",
        "print(f\"Best Fitness Value: {solution.best}\")\n",
        "print(f\"Portfolio Return: {portfolio_return * 100:.2f}%\")\n",
        "print(f\"Portfolio Risk: {portfolio_risk * 100:.2f}%\")\n",
        "print(f\"Sum of Weights: {np.sum(normalized_weights) * 100:.2f}%\")\n",
        "\n",
        "# import matplotlib.pyplot as plt\n",
        "\n",
        "# # Plot convergence graph\n",
        "# plt.figure()\n",
        "# plt.plot(best_fitness_values, linestyle='-', color='b')\n",
        "# plt.title('Convergence')\n",
        "# plt.xlabel('Iteration')\n",
        "# plt.ylabel('Best Fitness')\n",
        "# plt.grid(True)  # Add grid lines\n",
        "# plt.show()"
      ]
    }
  ]
}